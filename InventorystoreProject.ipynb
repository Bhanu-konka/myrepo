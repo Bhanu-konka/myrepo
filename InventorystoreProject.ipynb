{
 "cells": [
  {
   "cell_type": "code",
   "execution_count": 43,
   "id": "a0dfbc10-54ce-4166-beab-85a053bc16b5",
   "metadata": {},
   "outputs": [],
   "source": [
    "file=open(r\"C:\\Users\\konka\\Documents\\gfgcource\\Files\\.ipynb_checkpoints\\\\inventory.txt\",\"w\")\n",
    "file.write(\"1, Chocolate, 5, 100\\n\")\n",
    "file.write(\"2, Milky Bar, 10, 50\\n\")\n",
    "file.write(\"3, Cake, 300, 5\\n\")\n",
    "file.write(\"4, Candy, 1, 200\\n\")\n",
    "file.close()"
   ]
  },
  {
   "cell_type": "code",
   "execution_count": 16,
   "id": "b7300ce8-8aa6-416b-b3f1-039c5184fe73",
   "metadata": {},
   "outputs": [
    {
     "name": "stdout",
     "output_type": "stream",
     "text": [
      "[['1', ' Chocolate', ' 5', ' 100'], ['2', ' Milky Bar', ' 10', ' 50'], ['3', ' Cake', ' 300', ' 5'], ['4', ' Candy', ' 1', ' 200'], ['']]\n"
     ]
    }
   ],
   "source": [
    "result = []\n",
    "for i in products:\n",
    "    parts = i.split(\",\")\n",
    "    result.append(parts)\n",
    "\n",
    "print(result)\n"
   ]
  },
  {
   "cell_type": "code",
   "execution_count": 11,
   "id": "fd85b346-9bce-4dcd-ab7e-a4f85da0dcaf",
   "metadata": {},
   "outputs": [
    {
     "name": "stdout",
     "output_type": "stream",
     "text": [
      "1, Chocolate, 5, 100\n",
      "2, Milky Bar, 10, 50\n",
      "3, Cake, 300, 5\n",
      "4, Candy, 1, 200\n",
      "\n"
     ]
    }
   ],
   "source": [
    "fd=open(r\"C:\\Users\\konka\\Documents\\gfgcource\\Files\\.ipynb_checkpoints\\\\inventory.txt\",\"r\")\n",
    "\n",
    "\n",
    "products = fd.read().split('\\n')\n",
    "\n",
    "fd.close()\n",
    "\n",
    "# Display each product\n",
    "for product in products:\n",
    "    print(product)"
   ]
  },
  {
   "cell_type": "code",
   "execution_count": 17,
   "id": "20932146-6dfd-43e8-80a1-be476b119b97",
   "metadata": {},
   "outputs": [
    {
     "name": "stdin",
     "output_type": "stream",
     "text": [
      "Enter product ID:  3\n"
     ]
    },
    {
     "name": "stdout",
     "output_type": "stream",
     "text": [
      "-----------------------------\n",
      "Product Name     :   Cake\n",
      "Price            :   300\n",
      "Available Stock  :   5\n",
      "-----------------------------\n"
     ]
    }
   ],
   "source": [
    "ui_prod_id = input(\"Enter product ID: \")\n",
    "\n",
    "for product in products:\n",
    "    prod_details = product.split(',')  # Split product details\n",
    "\n",
    "    if prod_details[0] == ui_prod_id:  # Check if ID matches\n",
    "        print(\"-----------------------------\")\n",
    "        print(\"Product Name     : \", prod_details[1])\n",
    "        print(\"Price            : \", prod_details[2]) \n",
    "        print(\"Available Stock  : \", prod_details[3])\n",
    "        print(\"-----------------------------\")"
   ]
  },
  {
   "cell_type": "code",
   "execution_count": 41,
   "id": "0432c813-2217-4110-8032-74b49f580139",
   "metadata": {},
   "outputs": [
    {
     "name": "stdout",
     "output_type": "stream",
     "text": [
      "1, Chocolate, 5,30\n",
      "2, Milky Bar, 10,25\n",
      "3, Cake, 300, 5\n",
      "4, Candy, 1, 200\n"
     ]
    },
    {
     "name": "stdin",
     "output_type": "stream",
     "text": [
      "Enter product ID:  4\n",
      "Enter product Quantity:  100\n"
     ]
    },
    {
     "name": "stdout",
     "output_type": "stream",
     "text": [
      "-----------------------------\n",
      "Product Name     :   Candy\n",
      "Price            :   1\n",
      "Quantity         :  100\n",
      "-----------------------------\n",
      "Billing Amount   :  100\n",
      "-----------------------------\n",
      "-------------------\n",
      "Inventory Updated\n"
     ]
    }
   ],
   "source": [
    "##### from datetime import datetime \n",
    "fd = open(r\"C:\\Users\\konka\\Documents\\gfgcource\\Files\\.ipynb_checkpoints\\\\inventory.txt\", \"r\")\n",
    "products = fd.read().split('\\n')\n",
    "fd.close()\n",
    "\n",
    "# Display each product\n",
    "for product in products:\n",
    "    print(product)\n",
    "\n",
    "ui_prod_id = input(\"Enter product ID: \")\n",
    "ui_prod_qn = input(\"Enter product Quantity: \")\n",
    "\n",
    "updated_product_lst = []\n",
    "\n",
    "for product in products:\n",
    "    prod_details = product.split(',')\n",
    "\n",
    "    # Ignore empty or incomplete lines\n",
    "    if len(prod_details) < 4:\n",
    "        continue\n",
    "    \n",
    "    if prod_details[0] == ui_prod_id:\n",
    "        if int(ui_prod_qn) <= int(prod_details[3]):\n",
    "            ft=open(r\"C:\\Users\\konka\\Documents\\gfgcource\\Files\\.ipynb_checkpoints\\Trancitions.txt\",\"a\")\n",
    "            now = datetime.now()\n",
    "            ft.write(f\"{now.day}\\t{now.month}\\t{now.year}\\t{now.hour}\\t{now.minute}\\n\")            \n",
    "            ft.write(\"Product Name     : \" + prod_details[1] + \"\\n\")\n",
    "            ft.write(\"Price            : \" + prod_details[2] + \"\\n\")\n",
    "            ft.write(\"Quantity         : \" + ui_prod_qn + \"\\n\")\n",
    "            ft.write(\"-----------------------------\\n\")\n",
    "            ft.close()\n",
    "            print(\"-----------------------------\")\n",
    "            print(\"Product Name     : \", prod_details[1])\n",
    "            print(\"Price            : \", prod_details[2])\n",
    "            print(\"Quantity         : \", ui_prod_qn)\n",
    "            print(\"-----------------------------\")\n",
    "            print(\"Billing Amount   : \", int(ui_prod_qn) * int(prod_details[2]))\n",
    "            print(\"-----------------------------\")\n",
    "            prod_details[3] = str(int(prod_details[3]) - int(ui_prod_qn))\n",
    "        else:\n",
    "            print(\"Sorry, We're not having enough quantity.\")\n",
    "            print(\"We're having only\", prod_details[3], 'quantity.')\n",
    "            print(\"Would you like to purchase it?\")\n",
    "            ch = input(\"Press Y/N: \")\n",
    "            if ch.lower() == 'y':\n",
    "                print(\"-----------------------------\")\n",
    "                print(\"Product Name     : \", prod_details[1])\n",
    "                print(\"Price            : \", prod_details[2])\n",
    "                print(\"Quantity         : \", prod_details[3])\n",
    "                print(\"-----------------------------\")\n",
    "                print(\"Billing Amount   : \", int(prod_details[3]) * int(prod_details[2]))\n",
    "                print(\"-----------------------------\")\n",
    "                prod_details[3] = '0'\n",
    "            else:\n",
    "                print(\"Thanks\")\n",
    "\n",
    "    updated_product_lst.append(prod_details)\n",
    "\n",
    "# Write updated inventory to file\n",
    "lst = []\n",
    "for i in updated_product_lst:\n",
    "    if len(i) < 4:\n",
    "        continue\n",
    "    prod = i[0] + \",\" + i[1] + \",\" + i[2] + \",\" + i[3] + '\\n'\n",
    "    lst.append(prod)\n",
    "\n",
    "if lst:\n",
    "    lst[-1] = lst[-1][:-1]  # Remove newline from last item\n",
    "\n",
    "fd = open(r\"C:\\Users\\konka\\Documents\\gfgcource\\Files\\.ipynb_checkpoints\\\\inventory.txt\", 'w')\n",
    "for i in lst:\n",
    "    fd.write(i)\n",
    "fd.close()\n",
    "\n",
    "print(\"-------------------\")\n",
    "print(\"Inventory Updated\")\n"
   ]
  },
  {
   "cell_type": "code",
   "execution_count": null,
   "id": "25e580fd-50f4-4e1c-a5c3-6c2832c1f2d2",
   "metadata": {},
   "outputs": [],
   "source": []
  },
  {
   "cell_type": "code",
   "execution_count": null,
   "id": "f84cede4-051f-4e72-912f-2165f5f87809",
   "metadata": {},
   "outputs": [],
   "source": []
  }
 ],
 "metadata": {
  "kernelspec": {
   "display_name": "Python 3 (ipykernel)",
   "language": "python",
   "name": "python3"
  },
  "language_info": {
   "codemirror_mode": {
    "name": "ipython",
    "version": 3
   },
   "file_extension": ".py",
   "mimetype": "text/x-python",
   "name": "python",
   "nbconvert_exporter": "python",
   "pygments_lexer": "ipython3",
   "version": "3.12.7"
  }
 },
 "nbformat": 4,
 "nbformat_minor": 5
}
