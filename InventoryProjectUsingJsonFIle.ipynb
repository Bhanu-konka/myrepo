{
 "cells": [
  {
   "cell_type": "code",
   "execution_count": 170,
   "id": "ddc9bf07-d1ae-4160-8b6f-e6e75d207594",
   "metadata": {},
   "outputs": [
    {
     "data": {
      "text/plain": [
       "{'1001': {'Name': '5-Star', 'Price': 10, 'qn': 75},\n",
       " '1002': {'Name': 'MilkyBar', 'Price': 20, 'qn': 50},\n",
       " '1003': {'Name': 'cake', 'Price': 55, 'qn': 1000},\n",
       " '1004': {'Name': 'Bun', 'Price': 45, 'qn': 500}}"
      ]
     },
     "execution_count": 170,
     "metadata": {},
     "output_type": "execute_result"
    }
   ],
   "source": [
    "record"
   ]
  },
  {
   "cell_type": "code",
   "execution_count": 174,
   "id": "4cbe4ce5-3b97-49ef-b52d-6d53618eb6d1",
   "metadata": {},
   "outputs": [],
   "source": [
    "record={\n",
    "    1001: {'Name':'5-Star','Price':10,'qn':100},\n",
    "    1002: {'Name':'MilkyBar','Price':20,'qn':50},\n",
    "    1003: {'Name':'cake','Price':55,'qn':1000},\n",
    "    1004: {'Name':'Bun','Price':45,'qn':500} \n",
    "}\n",
    "# this the contenet in the file\n"
   ]
  },
  {
   "cell_type": "code",
   "execution_count": 184,
   "id": "8c4c2adb-e2f3-4b8a-9415-422d461668c4",
   "metadata": {},
   "outputs": [],
   "source": [
    "fd=open(\"jsonFIrstfile.json\",\"w\")\n",
    "js=json.dumps(record)\n",
    "fd.write(js)\n",
    "fd.close()\n",
    "#loading back into the json File again after changing"
   ]
  },
  {
   "cell_type": "code",
   "execution_count": 72,
   "id": "2d338def-3940-4bdb-92f7-e6e79633dfb5",
   "metadata": {},
   "outputs": [],
   "source": [
    "import json"
   ]
  },
  {
   "cell_type": "code",
   "execution_count": 178,
   "id": "996c9e8c-f9da-456b-b9d1-7108d1896d59",
   "metadata": {},
   "outputs": [],
   "source": [
    "fd=open(\"jsonFIrstfile.json\",\"r\")\n",
    "txt=fd.read()\n",
    "record=json.loads(txt)\n",
    "#reading content from json file"
   ]
  },
  {
   "cell_type": "code",
   "execution_count": 180,
   "id": "d10a75e4-3982-4754-bb9d-63bb6c063f0d",
   "metadata": {},
   "outputs": [
    {
     "data": {
      "text/plain": [
       "{'1001': {'Name': '5-Star', 'Price': 10, 'qn': 100},\n",
       " '1002': {'Name': 'MilkyBar', 'Price': 20, 'qn': 50},\n",
       " '1003': {'Name': 'cake', 'Price': 55, 'qn': 1000},\n",
       " '1004': {'Name': 'Bun', 'Price': 45, 'qn': 500}}"
      ]
     },
     "execution_count": 180,
     "metadata": {},
     "output_type": "execute_result"
    }
   ],
   "source": [
    "record\n",
    "# just checking the records"
   ]
  },
  {
   "cell_type": "code",
   "execution_count": 182,
   "id": "4f70d5d2-c903-41db-81d8-d67348f8782f",
   "metadata": {
    "scrolled": true
   },
   "outputs": [
    {
     "name": "stdin",
     "output_type": "stream",
     "text": [
      "Enter your Name:  KonkaBhanuPrakash\n",
      "Enter your Mobile Number:  9491024745\n",
      "Enter your Email ID:  konkabhanupraksh32@gmail.com\n",
      "Enter the product key you want to purchase:  1001\n",
      "Enter the number of products you want to purchase:  50\n"
     ]
    },
    {
     "name": "stdout",
     "output_type": "stream",
     "text": [
      "--------------------------------------------------\n",
      " Product Name = 5-Star\n",
      " Product Price = 10\n",
      " Quantity = 50\n",
      " The total bill is = 500\n",
      "----------------------------------------------------\n"
     ]
    }
   ],
   "source": [
    "from datetime import datetime\n",
    "\n",
    "\n",
    "un = input(\"Enter your Name: \")\n",
    "uno = input(\"Enter your Mobile Number: \")\n",
    "uemail = input(\"Enter your Email ID: \")\n",
    "\n",
    "ui = input(\"Enter the product key you want to purchase: \")\n",
    "up = int(input(\"Enter the number of products you want to purchase: \"))\n",
    "\n",
    "now = datetime.now()\n",
    "\n",
    "with open(\"TransactionFileForJson.txt\", \"a\") as fd:\n",
    "    # Write timestamp\n",
    "    fd.write(f\"Date: {now.day}-{now.month}-{now.year} Time: {now.hour}:{now.minute}:{now.second}\\n\")\n",
    "\n",
    "    # Write user info\n",
    "    fd.write(f\"User Name: {un}\\n\")\n",
    "    fd.write(f\"Mobile Number: {uno}\\n\")\n",
    "    fd.write(f\"Email ID: {uemail}\\n\")\n",
    "    fd.write(\"______________________\\n\")\n",
    "\n",
    "    if ui in record:\n",
    "        product = record[ui]\n",
    "\n",
    "        if up <= product['qn']:\n",
    "            total = up * product['Price']\n",
    "            product['qn'] -= up\n",
    "\n",
    "            print(\"--------------------------------------------------\")\n",
    "            print(f\" Product Name = {product['Name']}\")\n",
    "            print(f\" Product Price = {product['Price']}\")\n",
    "            print(f\" Quantity = {up}\")\n",
    "            print(f\" The total bill is = {total}\")\n",
    "            print(\"----------------------------------------------------\")\n",
    "\n",
    "            fd.write(f\"Product Purchased: {product['Name']}\\n\")\n",
    "            fd.write(f\"Quantity: {up}\\n\")\n",
    "            fd.write(f\"Price per unit: {product['Price']}\\n\")\n",
    "            fd.write(f\"Total Bill: {total}\\n\")\n",
    "\n",
    "        else:\n",
    "            print(f\"We are only having the quantity of {product['qn']}\")\n",
    "            char = input(\"Do you want to purchase all the quantity we have? (y/n): \")\n",
    "            if char.lower() == 'y':\n",
    "                total = product['qn'] * product['Price']\n",
    "\n",
    "                print(\"--------------------------------------------------\")\n",
    "                print(f\" Product Name = {product['Name']}\")\n",
    "                print(f\" Product Price = {product['Price']}\")\n",
    "                print(f\" Quantity = {product['qn']}\")\n",
    "                print(f\" The total bill is = {total}\")\n",
    "                print(\"----------------------------------------------------\")\n",
    "\n",
    "                fd.write(f\"Product Purchased: {product['Name']}\\n\")\n",
    "                fd.write(f\"Quantity: {product['qn']}\\n\")\n",
    "                fd.write(f\"Price per unit: {product['Price']}\\n\")\n",
    "                fd.write(f\"Total Bill: {total}\\n\")\n",
    "\n",
    "                product['qn'] = 0\n",
    "            else:\n",
    "                print(\"Thank you! No purchase made.\")\n",
    "                fd.write(\"Purchase not made due to insufficient quantity.\\n\")\n",
    "    else:\n",
    "        print(\"Invalid product key!\")\n",
    "        fd.write(\"Invalid product key entered.\\n\")\n",
    "\n",
    "    fd.write(\"----------------------------------------------------\\n\\n\")\n"
   ]
  },
  {
   "cell_type": "code",
   "execution_count": 186,
   "id": "0f6bddb7-6e10-471d-8fe2-0ccc43120f7c",
   "metadata": {},
   "outputs": [
    {
     "data": {
      "text/plain": [
       "{'1001': {'Name': '5-Star', 'Price': 10, 'qn': 50},\n",
       " '1002': {'Name': 'MilkyBar', 'Price': 20, 'qn': 50},\n",
       " '1003': {'Name': 'cake', 'Price': 55, 'qn': 1000},\n",
       " '1004': {'Name': 'Bun', 'Price': 45, 'qn': 500}}"
      ]
     },
     "execution_count": 186,
     "metadata": {},
     "output_type": "execute_result"
    }
   ],
   "source": [
    "record\n",
    "#check up the updated records\n"
   ]
  },
  {
   "cell_type": "code",
   "execution_count": 188,
   "id": "2714f0bb-4b86-476f-9a52-9d9cf8d8a59e",
   "metadata": {},
   "outputs": [],
   "source": [
    "fd=open(\"jsonFIrstfile.json\",\"w\")\n",
    "js=json.dumps(record)\n",
    "fd.write(js)\n",
    "fd.close()\n",
    "#loading back into the json File again after changing"
   ]
  },
  {
   "cell_type": "code",
   "execution_count": null,
   "id": "59a8e575-8b3e-4731-ac84-f58246f23196",
   "metadata": {},
   "outputs": [],
   "source": []
  }
 ],
 "metadata": {
  "kernelspec": {
   "display_name": "Python 3 (ipykernel)",
   "language": "python",
   "name": "python3"
  },
  "language_info": {
   "codemirror_mode": {
    "name": "ipython",
    "version": 3
   },
   "file_extension": ".py",
   "mimetype": "text/x-python",
   "name": "python",
   "nbconvert_exporter": "python",
   "pygments_lexer": "ipython3",
   "version": "3.12.7"
  }
 },
 "nbformat": 4,
 "nbformat_minor": 5
}
